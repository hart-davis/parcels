{
 "cells": [
  {
   "cell_type": "code",
   "execution_count": null,
   "metadata": {},
   "outputs": [],
   "source": [
    "# Define the new Kernel that mimics Argo vertical movement\n",
    "def ArgoVerticalMovement(particle, fieldset, time, dt):\n",
    "    driftdepth = 1000  # maximum depth in m\n",
    "    maxdepth = 2000  # maximum depth in m\n",
    "    vertical_speed = 0.10  # sink and rise speed in m/s\n",
    "    cycletime = 10 * 86400  # total time of cycle in seconds\n",
    "    drifttime = 9 * 86400  # time of deep drift in seconds\n",
    "\n",
    "    if particle.cycle_phase == 0:\n",
    "        # Phase 0: Sinking with vertical_speed until depth is driftdepth\n",
    "        particle.depth += vertical_speed * dt\n",
    "        if particle.depth >= driftdepth:\n",
    "            particle.cycle_phase = 1\n",
    "\n",
    "    elif particle.cycle_phase == 1:\n",
    "        # Phase 1: Drifting at depth for drifttime seconds\n",
    "        particle.drift_age += dt\n",
    "        if particle.drift_age >= drifttime:\n",
    "            particle.drift_age = 0  # reset drift_age for next cycle\n",
    "            particle.cycle_phase = 2\n",
    "\n",
    "    elif particle.cycle_phase == 2:\n",
    "        # Phase 2: Sinking further to maxdepth\n",
    "        particle.depth += vertical_speed * dt\n",
    "        if particle.depth >= maxdepth:\n",
    "            particle.cycle_phase = 3\n",
    "\n",
    "    elif particle.cycle_phase == 3:\n",
    "        # Phase 3: Rising with vertical_speed until at surface\n",
    "        particle.depth -= vertical_speed * dt\n",
    "        if particle.depth <= 0:\n",
    "            particle.cycle_phase = 4\n",
    "            particle.depth = 3.5\n",
    "\n",
    "    elif particle.cycle_phase == 4:\n",
    "        # Phase 4: Transmitting at surface until cycletime is reached\n",
    "        if particle.cycle_age > cycletime:\n",
    "            particle.cycle_phase = 0\n",
    "            particle.cycle_age = 0\n",
    "\n",
    "    particle.cycle_age += dt  # update cycle_age"
   ]
  }
 ],
 "metadata": {
  "kernelspec": {
   "display_name": "Python 2",
   "language": "python",
   "name": "python2"
  },
  "language_info": {
   "codemirror_mode": {
    "name": "ipython",
    "version": 2
   },
   "file_extension": ".py",
   "mimetype": "text/x-python",
   "name": "python",
   "nbconvert_exporter": "python",
   "pygments_lexer": "ipython2",
   "version": "2.7.14"
  }
 },
 "nbformat": 4,
 "nbformat_minor": 2
}
