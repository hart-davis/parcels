{
 "cells": [
  {
   "cell_type": "code",
   "execution_count": 1,
   "metadata": {},
   "outputs": [],
   "source": [
    "from parcels import rng as random\n",
    "import math"
   ]
  },
  {
   "cell_type": "code",
   "execution_count": 2,
   "metadata": {},
   "outputs": [],
   "source": [
    "def SpatiallyVaryingDiffusion2D(particle, fieldset, time, dt):\n",
    "    # Diffusion equations for particles in non-uniform diffusivity fields\n",
    "    # from Ross &  Sharples 2004 and Spagnol et al. 2002\n",
    "\n",
    "    r_var = 1/3.\n",
    "    kh_meridional = fieldset.Kh_meridional[time, particle.lon, particle.lat, particle.depth]\n",
    "    Ry = random.uniform(-1., 1.) * math.sqrt(2 * kh_meridional * math.fabs(dt) / r_var)\n",
    "    kh_zonal = fieldset.Kh_zonal[time, particle.lon, particle.lat, particle.depth]\n",
    "    Rx = random.uniform(-1., 1.) * math.sqrt(2 * kh_zonal * math.fabs(dt) / r_var)\n",
    "\n",
    "    # Deterministic 'boost' out of areas of low diffusivity\n",
    "    dKdx = fieldset.dKh_zonal_dx[time, particle.lon, particle.lat, particle.depth]\n",
    "    dKdy = fieldset.dKh_meridional_dy[time, particle.lon, particle.lat, particle.depth]\n",
    "    CorrectionX = dKdx * math.fabs(dt)\n",
    "    CorrectionY = dKdy * math.fabs(dt)\n",
    "\n",
    "    # diffuse particle\n",
    "    particle.lon += Rx + CorrectionX\n",
    "    particle.lat += Ry + CorrectionY"
   ]
  },
  {
   "cell_type": "code",
   "execution_count": null,
   "metadata": {},
   "outputs": [],
   "source": []
  }
 ],
 "metadata": {
  "kernelspec": {
   "display_name": "Python 2",
   "language": "python",
   "name": "python2"
  },
  "language_info": {
   "codemirror_mode": {
    "name": "ipython",
    "version": 2
   },
   "file_extension": ".py",
   "mimetype": "text/x-python",
   "name": "python",
   "nbconvert_exporter": "python",
   "pygments_lexer": "ipython2",
   "version": "2.7.14"
  }
 },
 "nbformat": 4,
 "nbformat_minor": 2
}
