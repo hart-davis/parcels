{
 "cells": [
  {
   "cell_type": "code",
   "execution_count": 3,
   "metadata": {},
   "outputs": [],
   "source": [
    "from parcels import rng as random\n",
    "import math"
   ]
  },
  {
   "cell_type": "code",
   "execution_count": 2,
   "metadata": {},
   "outputs": [],
   "source": [
    "def BrownianMotion2DFieldKh(particle, fieldset, time, dt):\n",
    "    # Kernel for simple Brownian particle diffusion in zonal and meridional direction.\n",
    "    # Assumes that fieldset has fields Kh_zonal and Kh_meridional\n",
    "\n",
    "    r = 1/3.\n",
    "    kh_meridional = fieldset.Kh_meridional[time, particle.lon, particle.lat, particle.depth]\n",
    "    particle.lat += random.uniform(-1., 1.)*math.sqrt(2*math.fabs(dt)*kh_meridional/r)\n",
    "    kh_zonal = fieldset.Kh_zonal[time, particle.lon, particle.lat, particle.depth]\n",
    "    particle.lon += random.uniform(-1., 1.)*math.sqrt(2*math.fabs(dt)*kh_zonal/r)"
   ]
  },
  {
   "cell_type": "code",
   "execution_count": null,
   "metadata": {},
   "outputs": [],
   "source": []
  }
 ],
 "metadata": {
  "kernelspec": {
   "display_name": "Python 2",
   "language": "python",
   "name": "python2"
  },
  "language_info": {
   "codemirror_mode": {
    "name": "ipython",
    "version": 2
   },
   "file_extension": ".py",
   "mimetype": "text/x-python",
   "name": "python",
   "nbconvert_exporter": "python",
   "pygments_lexer": "ipython2",
   "version": "2.7.14"
  }
 },
 "nbformat": 4,
 "nbformat_minor": 2
}
